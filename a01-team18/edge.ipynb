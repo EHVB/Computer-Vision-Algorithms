{
 "cells": [
  {
   "cell_type": "code",
   "execution_count": null,
   "metadata": {},
   "outputs": [],
   "source": [
    "\n",
    "import numpy as np\n",
    "import matplotlib.pyplot as plt\n",
    "import matplotlib.image as mpimg\n",
    "from math import sqrt\n",
    "import time\n"
   ]
  },
  {
   "cell_type": "code",
   "execution_count": null,
   "metadata": {},
   "outputs": [],
   "source": [
    "# sobel edge detection:\n",
    "class sobel_edge_detector:\n",
    "    def __init__(self, path=None, img=None, kernel=3):\n",
    "        if path != None:\n",
    "            self.image = mpimg.imread(path)\n",
    "        else:\n",
    "            self.image = img\n",
    "        self.orig_img = self.image\n",
    "        self.vertical_grad_filter = np.array(\n",
    "            [[1, 0, -1], [2, 0, -2], [1, 0, -1]])\n",
    "        self.horizontal_grad_filter = np.array(\n",
    "            [[1, 2, 1], [0, 0, 0], [-1, -2, -1]])\n",
    "\n",
    "    def cvt2gray(self):\n",
    "        self.image = np.dot(self.image, [1, 1, 1])//3\n",
    "        self.image = self.image/255\n",
    "        print(self.image)\n",
    "\n",
    "    def detect_edges(self):\n",
    "        self.cvt2gray()\n",
    "        kernel_width = self.vertical_grad_filter.shape[0]//2\n",
    "        grad_ = np.zeros(self.image.shape)\n",
    "\n",
    "    def detect_edges(self):\n",
    "        self.cvt2gray()\n",
    "        kernel_width = self.vertical_grad_filter.shape[0]//2\n",
    "        grad_ = np.zeros(self.image.shape)\n",
    "\n",
    "        self.image = np.pad(self.image, pad_width=([kernel_width, ], [kernel_width, ]),\n",
    "                            mode='constant', constant_values=(0, 0))\n",
    "        for i in range(kernel_width, self.image.shape[0] - kernel_width):\n",
    "            for j in range(kernel_width, self.image.shape[1] - kernel_width):\n",
    "                x = self.image[i - kernel_width: i + kernel_width +\n",
    "                               1, j - kernel_width: j + kernel_width + 1]\n",
    "                x = x.flatten() * self.vertical_grad_filter.flatten()\n",
    "                sum_x = x.sum()\n",
    "\n",
    "                y = self.image[i - kernel_width: i + kernel_width +\n",
    "                               1, j - kernel_width: j + kernel_width + 1]\n",
    "                y = y.flatten() * self.horizontal_grad_filter.flatten()\n",
    "                sum_y = y.sum()\n",
    "\n",
    "                grad_[i - kernel_width][j -\n",
    "                                        kernel_width] = sqrt(sum_x**2 + sum_y**2)\n",
    "        self.image = grad_\n",
    "        return self.image\n"
   ]
  }
 ],
 "metadata": {
  "language_info": {
   "name": "python"
  },
  "orig_nbformat": 4
 },
 "nbformat": 4,
 "nbformat_minor": 2
}
