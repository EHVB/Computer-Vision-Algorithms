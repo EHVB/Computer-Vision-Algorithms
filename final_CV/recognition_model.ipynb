{
 "cells": [
  {
   "cell_type": "code",
   "execution_count": 147,
   "metadata": {},
   "outputs": [],
   "source": [
    "import pandas as pd\n",
    "import numpy as np \n",
    "import cv2\n",
    "from sklearn.svm import SVC\n",
    "from sklearn.model_selection import train_test_split, GridSearchCV\n",
    "import glob\n",
    "import matplotlib.pyplot as plt"
   ]
  },
  {
   "cell_type": "code",
   "execution_count": 148,
   "metadata": {},
   "outputs": [],
   "source": [
    "data_dict = {\n",
    "    \"alaa\" : \"team_images/Alaa/*\", \n",
    "    \"aya amr\" : \"team_images/Aya Amr/*\",\n",
    "    \"aya sameh\" : \"team_images/Aya Sameh/*\",\n",
    "    \"ehab\" : \"team_images/Ehab/*\",\n",
    "    \"salman\" : \"team_images/Salman/*\"\n",
    "}"
   ]
  },
  {
   "cell_type": "code",
   "execution_count": 149,
   "metadata": {},
   "outputs": [],
   "source": [
    "def face_detection(img):\n",
    "    face_classifier = cv2.CascadeClassifier(\n",
    "    cv2.data.haarcascades + \"haarcascade_frontalface_default.xml\"\n",
    "    )\n",
    "    # The detectMultiScale() method is used to identify faces of different sizes in the input image.\n",
    "    face = face_classifier.detectMultiScale(img, scaleFactor=1.1, minNeighbors=5, minSize=(200, 200),flags=cv2.CASCADE_SCALE_IMAGE)\n",
    "# finally, the minSize parameter sets the minimum size of the object to be detected.\n",
    "# The model will ignore faces that are smaller than the minimum size specified.\n",
    "    return face"
   ]
  },
  {
   "cell_type": "code",
   "execution_count": 150,
   "metadata": {},
   "outputs": [],
   "source": [
    "def extract_features(pixel_values,folder_path, label):\n",
    "    file_names = glob.glob(folder_path)\n",
    "    for file in file_names:\n",
    "        gray_img = cv2.imread(file,0)\n",
    "        face = face_detection(gray_img)\n",
    "        for (x, y, w, h) in face:\n",
    "            face_img = gray_img[y:y+h, x:x+w]\n",
    "            face_img = cv2.resize(face_img, (100,100))\n",
    "            gray_pixels = face_img.flatten().tolist()\n",
    "            gray_pixels.append(label)\n",
    "        \n",
    "        pixel_values.append(gray_pixels)\n",
    "        "
   ]
  },
  {
   "cell_type": "code",
   "execution_count": 151,
   "metadata": {},
   "outputs": [],
   "source": [
    "pixel_values = []\n",
    "for key in data_dict.keys():    \n",
    "    extract_features(pixel_values, data_dict[key], key)\n",
    "\n",
    "df = pd.DataFrame(pixel_values)"
   ]
  },
  {
   "cell_type": "code",
   "execution_count": 152,
   "metadata": {},
   "outputs": [],
   "source": [
    "df.rename(columns={10000:\"label\"}, inplace=True)"
   ]
  },
  {
   "cell_type": "code",
   "execution_count": 153,
   "metadata": {},
   "outputs": [
    {
     "data": {
      "text/html": [
       "<div>\n",
       "<style scoped>\n",
       "    .dataframe tbody tr th:only-of-type {\n",
       "        vertical-align: middle;\n",
       "    }\n",
       "\n",
       "    .dataframe tbody tr th {\n",
       "        vertical-align: top;\n",
       "    }\n",
       "\n",
       "    .dataframe thead th {\n",
       "        text-align: right;\n",
       "    }\n",
       "</style>\n",
       "<table border=\"1\" class=\"dataframe\">\n",
       "  <thead>\n",
       "    <tr style=\"text-align: right;\">\n",
       "      <th></th>\n",
       "      <th>0</th>\n",
       "      <th>1</th>\n",
       "      <th>2</th>\n",
       "      <th>3</th>\n",
       "      <th>4</th>\n",
       "      <th>5</th>\n",
       "      <th>6</th>\n",
       "      <th>7</th>\n",
       "      <th>8</th>\n",
       "      <th>9</th>\n",
       "      <th>...</th>\n",
       "      <th>9991</th>\n",
       "      <th>9992</th>\n",
       "      <th>9993</th>\n",
       "      <th>9994</th>\n",
       "      <th>9995</th>\n",
       "      <th>9996</th>\n",
       "      <th>9997</th>\n",
       "      <th>9998</th>\n",
       "      <th>9999</th>\n",
       "      <th>label</th>\n",
       "    </tr>\n",
       "  </thead>\n",
       "  <tbody>\n",
       "    <tr>\n",
       "      <th>0</th>\n",
       "      <td>158</td>\n",
       "      <td>214</td>\n",
       "      <td>212</td>\n",
       "      <td>221</td>\n",
       "      <td>213</td>\n",
       "      <td>217</td>\n",
       "      <td>209</td>\n",
       "      <td>199</td>\n",
       "      <td>206</td>\n",
       "      <td>202</td>\n",
       "      <td>...</td>\n",
       "      <td>153</td>\n",
       "      <td>158</td>\n",
       "      <td>153</td>\n",
       "      <td>160</td>\n",
       "      <td>181</td>\n",
       "      <td>190</td>\n",
       "      <td>187</td>\n",
       "      <td>178</td>\n",
       "      <td>185</td>\n",
       "      <td>alaa</td>\n",
       "    </tr>\n",
       "    <tr>\n",
       "      <th>1</th>\n",
       "      <td>112</td>\n",
       "      <td>185</td>\n",
       "      <td>150</td>\n",
       "      <td>206</td>\n",
       "      <td>212</td>\n",
       "      <td>218</td>\n",
       "      <td>217</td>\n",
       "      <td>213</td>\n",
       "      <td>213</td>\n",
       "      <td>201</td>\n",
       "      <td>...</td>\n",
       "      <td>119</td>\n",
       "      <td>116</td>\n",
       "      <td>139</td>\n",
       "      <td>162</td>\n",
       "      <td>162</td>\n",
       "      <td>169</td>\n",
       "      <td>168</td>\n",
       "      <td>170</td>\n",
       "      <td>176</td>\n",
       "      <td>alaa</td>\n",
       "    </tr>\n",
       "    <tr>\n",
       "      <th>2</th>\n",
       "      <td>207</td>\n",
       "      <td>218</td>\n",
       "      <td>221</td>\n",
       "      <td>223</td>\n",
       "      <td>218</td>\n",
       "      <td>210</td>\n",
       "      <td>206</td>\n",
       "      <td>206</td>\n",
       "      <td>200</td>\n",
       "      <td>192</td>\n",
       "      <td>...</td>\n",
       "      <td>160</td>\n",
       "      <td>178</td>\n",
       "      <td>184</td>\n",
       "      <td>183</td>\n",
       "      <td>190</td>\n",
       "      <td>161</td>\n",
       "      <td>136</td>\n",
       "      <td>127</td>\n",
       "      <td>74</td>\n",
       "      <td>alaa</td>\n",
       "    </tr>\n",
       "    <tr>\n",
       "      <th>3</th>\n",
       "      <td>157</td>\n",
       "      <td>221</td>\n",
       "      <td>213</td>\n",
       "      <td>222</td>\n",
       "      <td>216</td>\n",
       "      <td>215</td>\n",
       "      <td>205</td>\n",
       "      <td>200</td>\n",
       "      <td>201</td>\n",
       "      <td>201</td>\n",
       "      <td>...</td>\n",
       "      <td>154</td>\n",
       "      <td>159</td>\n",
       "      <td>173</td>\n",
       "      <td>193</td>\n",
       "      <td>192</td>\n",
       "      <td>182</td>\n",
       "      <td>183</td>\n",
       "      <td>177</td>\n",
       "      <td>50</td>\n",
       "      <td>alaa</td>\n",
       "    </tr>\n",
       "    <tr>\n",
       "      <th>4</th>\n",
       "      <td>216</td>\n",
       "      <td>217</td>\n",
       "      <td>219</td>\n",
       "      <td>212</td>\n",
       "      <td>204</td>\n",
       "      <td>202</td>\n",
       "      <td>208</td>\n",
       "      <td>213</td>\n",
       "      <td>187</td>\n",
       "      <td>187</td>\n",
       "      <td>...</td>\n",
       "      <td>149</td>\n",
       "      <td>164</td>\n",
       "      <td>172</td>\n",
       "      <td>178</td>\n",
       "      <td>182</td>\n",
       "      <td>190</td>\n",
       "      <td>182</td>\n",
       "      <td>131</td>\n",
       "      <td>115</td>\n",
       "      <td>alaa</td>\n",
       "    </tr>\n",
       "  </tbody>\n",
       "</table>\n",
       "<p>5 rows × 10001 columns</p>\n",
       "</div>"
      ],
      "text/plain": [
       "     0    1    2    3    4    5    6    7    8    9  ...  9991  9992  9993  \\\n",
       "0  158  214  212  221  213  217  209  199  206  202  ...   153   158   153   \n",
       "1  112  185  150  206  212  218  217  213  213  201  ...   119   116   139   \n",
       "2  207  218  221  223  218  210  206  206  200  192  ...   160   178   184   \n",
       "3  157  221  213  222  216  215  205  200  201  201  ...   154   159   173   \n",
       "4  216  217  219  212  204  202  208  213  187  187  ...   149   164   172   \n",
       "\n",
       "   9994  9995  9996  9997  9998  9999  label  \n",
       "0   160   181   190   187   178   185   alaa  \n",
       "1   162   162   169   168   170   176   alaa  \n",
       "2   183   190   161   136   127    74   alaa  \n",
       "3   193   192   182   183   177    50   alaa  \n",
       "4   178   182   190   182   131   115   alaa  \n",
       "\n",
       "[5 rows x 10001 columns]"
      ]
     },
     "execution_count": 153,
     "metadata": {},
     "output_type": "execute_result"
    }
   ],
   "source": [
    "df.head()"
   ]
  },
  {
   "cell_type": "code",
   "execution_count": 154,
   "metadata": {},
   "outputs": [],
   "source": [
    "def perform_pca_faster(faces):\n",
    "    # Convert the list of face images into a 2D array\n",
    "    X = np.array(faces).reshape(len((faces)), -1).astype(np.float64)\n",
    "    # Compute the mean face and subtract it from each face image\n",
    "    mean_face = np.mean(X, axis=0)\n",
    "    X -= mean_face\n",
    "    # Compute the SVD of the centered face images\n",
    "    U, s, Vt = np.linalg.svd(X, full_matrices=False)\n",
    "    print(Vt.shape)\n",
    "\n",
    "    # Project the face images onto the lower-dimensional space\n",
    "    X_pca = np.dot(X, Vt.T)\n",
    "\n",
    "    return mean_face, Vt, X_pca\n"
   ]
  },
  {
   "cell_type": "code",
   "execution_count": 155,
   "metadata": {},
   "outputs": [
    {
     "name": "stdout",
     "output_type": "stream",
     "text": [
      "(262, 10000)\n"
     ]
    }
   ],
   "source": [
    "mean_face, eigvecs, X_pca = perform_pca_faster(df.drop(columns=\"label\").to_numpy())"
   ]
  },
  {
   "cell_type": "code",
   "execution_count": 156,
   "metadata": {},
   "outputs": [
    {
     "data": {
      "text/html": [
       "<div>\n",
       "<style scoped>\n",
       "    .dataframe tbody tr th:only-of-type {\n",
       "        vertical-align: middle;\n",
       "    }\n",
       "\n",
       "    .dataframe tbody tr th {\n",
       "        vertical-align: top;\n",
       "    }\n",
       "\n",
       "    .dataframe thead th {\n",
       "        text-align: right;\n",
       "    }\n",
       "</style>\n",
       "<table border=\"1\" class=\"dataframe\">\n",
       "  <thead>\n",
       "    <tr style=\"text-align: right;\">\n",
       "      <th></th>\n",
       "      <th>0</th>\n",
       "      <th>1</th>\n",
       "      <th>2</th>\n",
       "      <th>3</th>\n",
       "      <th>4</th>\n",
       "      <th>5</th>\n",
       "      <th>6</th>\n",
       "      <th>7</th>\n",
       "      <th>8</th>\n",
       "      <th>9</th>\n",
       "      <th>...</th>\n",
       "      <th>252</th>\n",
       "      <th>253</th>\n",
       "      <th>254</th>\n",
       "      <th>255</th>\n",
       "      <th>256</th>\n",
       "      <th>257</th>\n",
       "      <th>258</th>\n",
       "      <th>259</th>\n",
       "      <th>260</th>\n",
       "      <th>261</th>\n",
       "    </tr>\n",
       "  </thead>\n",
       "  <tbody>\n",
       "    <tr>\n",
       "      <th>0</th>\n",
       "      <td>-1425.798651</td>\n",
       "      <td>-1074.481908</td>\n",
       "      <td>444.301872</td>\n",
       "      <td>-4.122073</td>\n",
       "      <td>411.447544</td>\n",
       "      <td>-932.512214</td>\n",
       "      <td>455.433810</td>\n",
       "      <td>-849.152547</td>\n",
       "      <td>998.702934</td>\n",
       "      <td>-238.818008</td>\n",
       "      <td>...</td>\n",
       "      <td>26.504293</td>\n",
       "      <td>-18.776041</td>\n",
       "      <td>-6.409120</td>\n",
       "      <td>7.151085</td>\n",
       "      <td>-56.846011</td>\n",
       "      <td>36.439155</td>\n",
       "      <td>-10.548514</td>\n",
       "      <td>25.343639</td>\n",
       "      <td>-45.065154</td>\n",
       "      <td>-7.522871e-13</td>\n",
       "    </tr>\n",
       "    <tr>\n",
       "      <th>1</th>\n",
       "      <td>-953.342820</td>\n",
       "      <td>-893.062318</td>\n",
       "      <td>950.785900</td>\n",
       "      <td>154.683827</td>\n",
       "      <td>244.323400</td>\n",
       "      <td>-727.634484</td>\n",
       "      <td>499.228915</td>\n",
       "      <td>-812.856240</td>\n",
       "      <td>869.862847</td>\n",
       "      <td>172.679699</td>\n",
       "      <td>...</td>\n",
       "      <td>-4.119927</td>\n",
       "      <td>-22.804297</td>\n",
       "      <td>47.963462</td>\n",
       "      <td>-16.203792</td>\n",
       "      <td>-5.876089</td>\n",
       "      <td>4.437150</td>\n",
       "      <td>2.779287</td>\n",
       "      <td>31.077524</td>\n",
       "      <td>2.519734</td>\n",
       "      <td>-3.872458e-13</td>\n",
       "    </tr>\n",
       "    <tr>\n",
       "      <th>2</th>\n",
       "      <td>-1393.856955</td>\n",
       "      <td>-792.405334</td>\n",
       "      <td>418.408357</td>\n",
       "      <td>-86.533582</td>\n",
       "      <td>170.150363</td>\n",
       "      <td>-1333.494858</td>\n",
       "      <td>526.667509</td>\n",
       "      <td>-670.270367</td>\n",
       "      <td>933.005796</td>\n",
       "      <td>64.579724</td>\n",
       "      <td>...</td>\n",
       "      <td>-29.497938</td>\n",
       "      <td>10.789256</td>\n",
       "      <td>-43.926109</td>\n",
       "      <td>-33.731580</td>\n",
       "      <td>15.330856</td>\n",
       "      <td>8.696994</td>\n",
       "      <td>22.609353</td>\n",
       "      <td>6.155442</td>\n",
       "      <td>-32.030153</td>\n",
       "      <td>-6.146195e-13</td>\n",
       "    </tr>\n",
       "    <tr>\n",
       "      <th>3</th>\n",
       "      <td>-1412.003096</td>\n",
       "      <td>-1029.041004</td>\n",
       "      <td>622.838235</td>\n",
       "      <td>87.193838</td>\n",
       "      <td>518.774585</td>\n",
       "      <td>-961.256688</td>\n",
       "      <td>561.332776</td>\n",
       "      <td>-942.621568</td>\n",
       "      <td>919.486270</td>\n",
       "      <td>-134.594128</td>\n",
       "      <td>...</td>\n",
       "      <td>31.506483</td>\n",
       "      <td>-0.775140</td>\n",
       "      <td>-17.519605</td>\n",
       "      <td>16.177425</td>\n",
       "      <td>11.388899</td>\n",
       "      <td>-4.335656</td>\n",
       "      <td>-31.274452</td>\n",
       "      <td>-14.692716</td>\n",
       "      <td>37.317341</td>\n",
       "      <td>-5.879741e-13</td>\n",
       "    </tr>\n",
       "    <tr>\n",
       "      <th>4</th>\n",
       "      <td>-1293.442281</td>\n",
       "      <td>-791.380320</td>\n",
       "      <td>398.599834</td>\n",
       "      <td>-17.427822</td>\n",
       "      <td>248.395660</td>\n",
       "      <td>-1118.188398</td>\n",
       "      <td>584.239261</td>\n",
       "      <td>-545.009857</td>\n",
       "      <td>1174.466644</td>\n",
       "      <td>146.826104</td>\n",
       "      <td>...</td>\n",
       "      <td>-28.310814</td>\n",
       "      <td>-0.922235</td>\n",
       "      <td>20.427106</td>\n",
       "      <td>-37.750054</td>\n",
       "      <td>6.913354</td>\n",
       "      <td>-26.232122</td>\n",
       "      <td>-7.871519</td>\n",
       "      <td>-16.811978</td>\n",
       "      <td>60.558161</td>\n",
       "      <td>-4.396483e-13</td>\n",
       "    </tr>\n",
       "  </tbody>\n",
       "</table>\n",
       "<p>5 rows × 262 columns</p>\n",
       "</div>"
      ],
      "text/plain": [
       "           0            1           2           3           4            5    \\\n",
       "0 -1425.798651 -1074.481908  444.301872   -4.122073  411.447544  -932.512214   \n",
       "1  -953.342820  -893.062318  950.785900  154.683827  244.323400  -727.634484   \n",
       "2 -1393.856955  -792.405334  418.408357  -86.533582  170.150363 -1333.494858   \n",
       "3 -1412.003096 -1029.041004  622.838235   87.193838  518.774585  -961.256688   \n",
       "4 -1293.442281  -791.380320  398.599834  -17.427822  248.395660 -1118.188398   \n",
       "\n",
       "          6           7            8           9    ...        252        253  \\\n",
       "0  455.433810 -849.152547   998.702934 -238.818008  ...  26.504293 -18.776041   \n",
       "1  499.228915 -812.856240   869.862847  172.679699  ...  -4.119927 -22.804297   \n",
       "2  526.667509 -670.270367   933.005796   64.579724  ... -29.497938  10.789256   \n",
       "3  561.332776 -942.621568   919.486270 -134.594128  ...  31.506483  -0.775140   \n",
       "4  584.239261 -545.009857  1174.466644  146.826104  ... -28.310814  -0.922235   \n",
       "\n",
       "         254        255        256        257        258        259  \\\n",
       "0  -6.409120   7.151085 -56.846011  36.439155 -10.548514  25.343639   \n",
       "1  47.963462 -16.203792  -5.876089   4.437150   2.779287  31.077524   \n",
       "2 -43.926109 -33.731580  15.330856   8.696994  22.609353   6.155442   \n",
       "3 -17.519605  16.177425  11.388899  -4.335656 -31.274452 -14.692716   \n",
       "4  20.427106 -37.750054   6.913354 -26.232122  -7.871519 -16.811978   \n",
       "\n",
       "         260           261  \n",
       "0 -45.065154 -7.522871e-13  \n",
       "1   2.519734 -3.872458e-13  \n",
       "2 -32.030153 -6.146195e-13  \n",
       "3  37.317341 -5.879741e-13  \n",
       "4  60.558161 -4.396483e-13  \n",
       "\n",
       "[5 rows x 262 columns]"
      ]
     },
     "execution_count": 156,
     "metadata": {},
     "output_type": "execute_result"
    }
   ],
   "source": [
    "data = pd.DataFrame(X_pca)\n",
    "data.head()"
   ]
  },
  {
   "cell_type": "code",
   "execution_count": 157,
   "metadata": {},
   "outputs": [
    {
     "data": {
      "text/plain": [
       "(262, 263)"
      ]
     },
     "execution_count": 157,
     "metadata": {},
     "output_type": "execute_result"
    }
   ],
   "source": [
    "data[\"labels\"] = df[\"label\"]\n",
    "data.shape\n"
   ]
  },
  {
   "cell_type": "code",
   "execution_count": 158,
   "metadata": {},
   "outputs": [],
   "source": [
    "X_train, X_test, y_train, y_test = train_test_split(data.drop(columns=\"labels\"),data[\"labels\"], stratify=data[\"labels\"], test_size=0.2, random_state=42)"
   ]
  },
  {
   "cell_type": "code",
   "execution_count": 159,
   "metadata": {},
   "outputs": [
    {
     "name": "stdout",
     "output_type": "stream",
     "text": [
      "Fitting 5 folds for each of 896 candidates, totalling 4480 fits\n"
     ]
    },
    {
     "data": {
      "text/html": [
       "<style>#sk-container-id-10 {color: black;background-color: white;}#sk-container-id-10 pre{padding: 0;}#sk-container-id-10 div.sk-toggleable {background-color: white;}#sk-container-id-10 label.sk-toggleable__label {cursor: pointer;display: block;width: 100%;margin-bottom: 0;padding: 0.3em;box-sizing: border-box;text-align: center;}#sk-container-id-10 label.sk-toggleable__label-arrow:before {content: \"▸\";float: left;margin-right: 0.25em;color: #696969;}#sk-container-id-10 label.sk-toggleable__label-arrow:hover:before {color: black;}#sk-container-id-10 div.sk-estimator:hover label.sk-toggleable__label-arrow:before {color: black;}#sk-container-id-10 div.sk-toggleable__content {max-height: 0;max-width: 0;overflow: hidden;text-align: left;background-color: #f0f8ff;}#sk-container-id-10 div.sk-toggleable__content pre {margin: 0.2em;color: black;border-radius: 0.25em;background-color: #f0f8ff;}#sk-container-id-10 input.sk-toggleable__control:checked~div.sk-toggleable__content {max-height: 200px;max-width: 100%;overflow: auto;}#sk-container-id-10 input.sk-toggleable__control:checked~label.sk-toggleable__label-arrow:before {content: \"▾\";}#sk-container-id-10 div.sk-estimator input.sk-toggleable__control:checked~label.sk-toggleable__label {background-color: #d4ebff;}#sk-container-id-10 div.sk-label input.sk-toggleable__control:checked~label.sk-toggleable__label {background-color: #d4ebff;}#sk-container-id-10 input.sk-hidden--visually {border: 0;clip: rect(1px 1px 1px 1px);clip: rect(1px, 1px, 1px, 1px);height: 1px;margin: -1px;overflow: hidden;padding: 0;position: absolute;width: 1px;}#sk-container-id-10 div.sk-estimator {font-family: monospace;background-color: #f0f8ff;border: 1px dotted black;border-radius: 0.25em;box-sizing: border-box;margin-bottom: 0.5em;}#sk-container-id-10 div.sk-estimator:hover {background-color: #d4ebff;}#sk-container-id-10 div.sk-parallel-item::after {content: \"\";width: 100%;border-bottom: 1px solid gray;flex-grow: 1;}#sk-container-id-10 div.sk-label:hover label.sk-toggleable__label {background-color: #d4ebff;}#sk-container-id-10 div.sk-serial::before {content: \"\";position: absolute;border-left: 1px solid gray;box-sizing: border-box;top: 0;bottom: 0;left: 50%;z-index: 0;}#sk-container-id-10 div.sk-serial {display: flex;flex-direction: column;align-items: center;background-color: white;padding-right: 0.2em;padding-left: 0.2em;position: relative;}#sk-container-id-10 div.sk-item {position: relative;z-index: 1;}#sk-container-id-10 div.sk-parallel {display: flex;align-items: stretch;justify-content: center;background-color: white;position: relative;}#sk-container-id-10 div.sk-item::before, #sk-container-id-10 div.sk-parallel-item::before {content: \"\";position: absolute;border-left: 1px solid gray;box-sizing: border-box;top: 0;bottom: 0;left: 50%;z-index: -1;}#sk-container-id-10 div.sk-parallel-item {display: flex;flex-direction: column;z-index: 1;position: relative;background-color: white;}#sk-container-id-10 div.sk-parallel-item:first-child::after {align-self: flex-end;width: 50%;}#sk-container-id-10 div.sk-parallel-item:last-child::after {align-self: flex-start;width: 50%;}#sk-container-id-10 div.sk-parallel-item:only-child::after {width: 0;}#sk-container-id-10 div.sk-dashed-wrapped {border: 1px dashed gray;margin: 0 0.4em 0.5em 0.4em;box-sizing: border-box;padding-bottom: 0.4em;background-color: white;}#sk-container-id-10 div.sk-label label {font-family: monospace;font-weight: bold;display: inline-block;line-height: 1.2em;}#sk-container-id-10 div.sk-label-container {text-align: center;}#sk-container-id-10 div.sk-container {/* jupyter's `normalize.less` sets `[hidden] { display: none; }` but bootstrap.min.css set `[hidden] { display: none !important; }` so we also need the `!important` here to be able to override the default hidden behavior on the sphinx rendered scikit-learn.org. See: https://github.com/scikit-learn/scikit-learn/issues/21755 */display: inline-block !important;position: relative;}#sk-container-id-10 div.sk-text-repr-fallback {display: none;}</style><div id=\"sk-container-id-10\" class=\"sk-top-container\"><div class=\"sk-text-repr-fallback\"><pre>GridSearchCV(cv=5, estimator=SVC(), n_jobs=-1,\n",
       "             param_grid={&#x27;C&#x27;: [0.01, 0.1, 0.5, 1, 5, 10, 100],\n",
       "                         &#x27;decision_function_shape&#x27;: [&#x27;ovo&#x27;, &#x27;ovr&#x27;],\n",
       "                         &#x27;degree&#x27;: range(2, 6), &#x27;gamma&#x27;: [1, 0.1, 0.01, 0.001],\n",
       "                         &#x27;kernel&#x27;: [&#x27;linear&#x27;, &#x27;poly&#x27;, &#x27;rbf&#x27;, &#x27;sigmoid&#x27;]},\n",
       "             verbose=1)</pre><b>In a Jupyter environment, please rerun this cell to show the HTML representation or trust the notebook. <br />On GitHub, the HTML representation is unable to render, please try loading this page with nbviewer.org.</b></div><div class=\"sk-container\" hidden><div class=\"sk-item sk-dashed-wrapped\"><div class=\"sk-label-container\"><div class=\"sk-label sk-toggleable\"><input class=\"sk-toggleable__control sk-hidden--visually\" id=\"sk-estimator-id-20\" type=\"checkbox\" ><label for=\"sk-estimator-id-20\" class=\"sk-toggleable__label sk-toggleable__label-arrow\">GridSearchCV</label><div class=\"sk-toggleable__content\"><pre>GridSearchCV(cv=5, estimator=SVC(), n_jobs=-1,\n",
       "             param_grid={&#x27;C&#x27;: [0.01, 0.1, 0.5, 1, 5, 10, 100],\n",
       "                         &#x27;decision_function_shape&#x27;: [&#x27;ovo&#x27;, &#x27;ovr&#x27;],\n",
       "                         &#x27;degree&#x27;: range(2, 6), &#x27;gamma&#x27;: [1, 0.1, 0.01, 0.001],\n",
       "                         &#x27;kernel&#x27;: [&#x27;linear&#x27;, &#x27;poly&#x27;, &#x27;rbf&#x27;, &#x27;sigmoid&#x27;]},\n",
       "             verbose=1)</pre></div></div></div><div class=\"sk-parallel\"><div class=\"sk-parallel-item\"><div class=\"sk-item\"><div class=\"sk-label-container\"><div class=\"sk-label sk-toggleable\"><input class=\"sk-toggleable__control sk-hidden--visually\" id=\"sk-estimator-id-21\" type=\"checkbox\" ><label for=\"sk-estimator-id-21\" class=\"sk-toggleable__label sk-toggleable__label-arrow\">estimator: SVC</label><div class=\"sk-toggleable__content\"><pre>SVC()</pre></div></div></div><div class=\"sk-serial\"><div class=\"sk-item\"><div class=\"sk-estimator sk-toggleable\"><input class=\"sk-toggleable__control sk-hidden--visually\" id=\"sk-estimator-id-22\" type=\"checkbox\" ><label for=\"sk-estimator-id-22\" class=\"sk-toggleable__label sk-toggleable__label-arrow\">SVC</label><div class=\"sk-toggleable__content\"><pre>SVC()</pre></div></div></div></div></div></div></div></div></div></div>"
      ],
      "text/plain": [
       "GridSearchCV(cv=5, estimator=SVC(), n_jobs=-1,\n",
       "             param_grid={'C': [0.01, 0.1, 0.5, 1, 5, 10, 100],\n",
       "                         'decision_function_shape': ['ovo', 'ovr'],\n",
       "                         'degree': range(2, 6), 'gamma': [1, 0.1, 0.01, 0.001],\n",
       "                         'kernel': ['linear', 'poly', 'rbf', 'sigmoid']},\n",
       "             verbose=1)"
      ]
     },
     "execution_count": 159,
     "metadata": {},
     "output_type": "execute_result"
    }
   ],
   "source": [
    "params = {\n",
    "    \"kernel\" : [\"linear\", \"poly\", \"rbf\", \"sigmoid\"],\n",
    "    'C':[0.01, 0.1, 0.5, 1, 5, 10, 100],\n",
    "    'gamma': [1, 0.1, 0.01, 0.001],\n",
    "    'degree' : range(2,6),\n",
    "    'decision_function_shape': [\"ovo\",\"ovr\"]\n",
    "}\n",
    "model = GridSearchCV(estimator=SVC(), param_grid=params, n_jobs=-1, cv=5, verbose=1)\n",
    "model.fit(X_train, y_train)"
   ]
  },
  {
   "cell_type": "code",
   "execution_count": 160,
   "metadata": {},
   "outputs": [
    {
     "data": {
      "text/plain": [
       "{'C': 0.01,\n",
       " 'decision_function_shape': 'ovo',\n",
       " 'degree': 2,\n",
       " 'gamma': 1,\n",
       " 'kernel': 'linear'}"
      ]
     },
     "execution_count": 160,
     "metadata": {},
     "output_type": "execute_result"
    }
   ],
   "source": [
    "model.best_params_"
   ]
  },
  {
   "cell_type": "code",
   "execution_count": 161,
   "metadata": {},
   "outputs": [
    {
     "data": {
      "text/html": [
       "<style>#sk-container-id-11 {color: black;background-color: white;}#sk-container-id-11 pre{padding: 0;}#sk-container-id-11 div.sk-toggleable {background-color: white;}#sk-container-id-11 label.sk-toggleable__label {cursor: pointer;display: block;width: 100%;margin-bottom: 0;padding: 0.3em;box-sizing: border-box;text-align: center;}#sk-container-id-11 label.sk-toggleable__label-arrow:before {content: \"▸\";float: left;margin-right: 0.25em;color: #696969;}#sk-container-id-11 label.sk-toggleable__label-arrow:hover:before {color: black;}#sk-container-id-11 div.sk-estimator:hover label.sk-toggleable__label-arrow:before {color: black;}#sk-container-id-11 div.sk-toggleable__content {max-height: 0;max-width: 0;overflow: hidden;text-align: left;background-color: #f0f8ff;}#sk-container-id-11 div.sk-toggleable__content pre {margin: 0.2em;color: black;border-radius: 0.25em;background-color: #f0f8ff;}#sk-container-id-11 input.sk-toggleable__control:checked~div.sk-toggleable__content {max-height: 200px;max-width: 100%;overflow: auto;}#sk-container-id-11 input.sk-toggleable__control:checked~label.sk-toggleable__label-arrow:before {content: \"▾\";}#sk-container-id-11 div.sk-estimator input.sk-toggleable__control:checked~label.sk-toggleable__label {background-color: #d4ebff;}#sk-container-id-11 div.sk-label input.sk-toggleable__control:checked~label.sk-toggleable__label {background-color: #d4ebff;}#sk-container-id-11 input.sk-hidden--visually {border: 0;clip: rect(1px 1px 1px 1px);clip: rect(1px, 1px, 1px, 1px);height: 1px;margin: -1px;overflow: hidden;padding: 0;position: absolute;width: 1px;}#sk-container-id-11 div.sk-estimator {font-family: monospace;background-color: #f0f8ff;border: 1px dotted black;border-radius: 0.25em;box-sizing: border-box;margin-bottom: 0.5em;}#sk-container-id-11 div.sk-estimator:hover {background-color: #d4ebff;}#sk-container-id-11 div.sk-parallel-item::after {content: \"\";width: 100%;border-bottom: 1px solid gray;flex-grow: 1;}#sk-container-id-11 div.sk-label:hover label.sk-toggleable__label {background-color: #d4ebff;}#sk-container-id-11 div.sk-serial::before {content: \"\";position: absolute;border-left: 1px solid gray;box-sizing: border-box;top: 0;bottom: 0;left: 50%;z-index: 0;}#sk-container-id-11 div.sk-serial {display: flex;flex-direction: column;align-items: center;background-color: white;padding-right: 0.2em;padding-left: 0.2em;position: relative;}#sk-container-id-11 div.sk-item {position: relative;z-index: 1;}#sk-container-id-11 div.sk-parallel {display: flex;align-items: stretch;justify-content: center;background-color: white;position: relative;}#sk-container-id-11 div.sk-item::before, #sk-container-id-11 div.sk-parallel-item::before {content: \"\";position: absolute;border-left: 1px solid gray;box-sizing: border-box;top: 0;bottom: 0;left: 50%;z-index: -1;}#sk-container-id-11 div.sk-parallel-item {display: flex;flex-direction: column;z-index: 1;position: relative;background-color: white;}#sk-container-id-11 div.sk-parallel-item:first-child::after {align-self: flex-end;width: 50%;}#sk-container-id-11 div.sk-parallel-item:last-child::after {align-self: flex-start;width: 50%;}#sk-container-id-11 div.sk-parallel-item:only-child::after {width: 0;}#sk-container-id-11 div.sk-dashed-wrapped {border: 1px dashed gray;margin: 0 0.4em 0.5em 0.4em;box-sizing: border-box;padding-bottom: 0.4em;background-color: white;}#sk-container-id-11 div.sk-label label {font-family: monospace;font-weight: bold;display: inline-block;line-height: 1.2em;}#sk-container-id-11 div.sk-label-container {text-align: center;}#sk-container-id-11 div.sk-container {/* jupyter's `normalize.less` sets `[hidden] { display: none; }` but bootstrap.min.css set `[hidden] { display: none !important; }` so we also need the `!important` here to be able to override the default hidden behavior on the sphinx rendered scikit-learn.org. See: https://github.com/scikit-learn/scikit-learn/issues/21755 */display: inline-block !important;position: relative;}#sk-container-id-11 div.sk-text-repr-fallback {display: none;}</style><div id=\"sk-container-id-11\" class=\"sk-top-container\"><div class=\"sk-text-repr-fallback\"><pre>SVC(C=0.01, decision_function_shape=&#x27;ovo&#x27;, gamma=1, kernel=&#x27;linear&#x27;,\n",
       "    random_state=42)</pre><b>In a Jupyter environment, please rerun this cell to show the HTML representation or trust the notebook. <br />On GitHub, the HTML representation is unable to render, please try loading this page with nbviewer.org.</b></div><div class=\"sk-container\" hidden><div class=\"sk-item\"><div class=\"sk-estimator sk-toggleable\"><input class=\"sk-toggleable__control sk-hidden--visually\" id=\"sk-estimator-id-23\" type=\"checkbox\" checked><label for=\"sk-estimator-id-23\" class=\"sk-toggleable__label sk-toggleable__label-arrow\">SVC</label><div class=\"sk-toggleable__content\"><pre>SVC(C=0.01, decision_function_shape=&#x27;ovo&#x27;, gamma=1, kernel=&#x27;linear&#x27;,\n",
       "    random_state=42)</pre></div></div></div></div></div>"
      ],
      "text/plain": [
       "SVC(C=0.01, decision_function_shape='ovo', gamma=1, kernel='linear',\n",
       "    random_state=42)"
      ]
     },
     "execution_count": 161,
     "metadata": {},
     "output_type": "execute_result"
    }
   ],
   "source": [
    "final_model = SVC(C=0.01, gamma=1, kernel=\"linear\", decision_function_shape= \"ovo\",random_state=42)\n",
    "final_model.fit(X_train,y_train)"
   ]
  },
  {
   "cell_type": "code",
   "execution_count": 162,
   "metadata": {},
   "outputs": [],
   "source": [
    "import numpy as np\n",
    "import matplotlib.pyplot as plt\n",
    "\n",
    "def compute_roc_curve(y_true, y_scores):\n",
    "    # Sort instances based on scores in descending order\n",
    "    sorted_indices = np.argsort(y_scores)[::-1]\n",
    "    y_true_sorted = y_true[sorted_indices]\n",
    "    y_scores_sorted = y_scores[sorted_indices]\n",
    "\n",
    "    total_positives = np.sum(y_true)\n",
    "    total_negatives = len(y_true) - total_positives\n",
    "\n",
    "    tpr_values = []  # True Positive Rate\n",
    "    fpr_values = []  # False Positive Rate\n",
    "\n",
    "    # Calculate TPR and FPR for different classification thresholds\n",
    "    tp_count = 0\n",
    "    fp_count = 0\n",
    "\n",
    "    for i in range(len(y_scores_sorted)):\n",
    "        if y_true_sorted[i] == 1:\n",
    "            tp_count += 1\n",
    "        else:\n",
    "            fp_count += 1\n",
    "\n",
    "        tpr = tp_count / total_positives\n",
    "        fpr = fp_count / total_negatives\n",
    "\n",
    "        tpr_values.append(tpr)\n",
    "        fpr_values.append(fpr)\n",
    "\n",
    "    return fpr_values, tpr_values"
   ]
  },
  {
   "cell_type": "code",
   "execution_count": 163,
   "metadata": {},
   "outputs": [],
   "source": [
    "import matplotlib.pyplot as plt\n",
    "from sklearn.preprocessing import label_binarize\n",
    "from sklearn.metrics import auc\n",
    "\n",
    "def draw_roc_multi_curves(y_true, y_scores, n_classes):\n",
    "    # Binarize the true labels\n",
    "    y_true_bin = label_binarize(y_true, classes=range(n_classes))\n",
    "\n",
    "    # Compute the ROC curve and AUC for each class\n",
    "    fpr = dict()\n",
    "    tpr = dict()\n",
    "    roc_auc = dict()\n",
    "    for i in range(n_classes):\n",
    "        fpr[i], tpr[i]= compute_roc_curve(y_true_bin[:, i], y_scores[:, i])\n",
    "        roc_auc[i] = auc(fpr[i], tpr[i])\n",
    "\n",
    "    # Plot the ROC curves for each class\n",
    "    plt.figure()\n",
    "    colors = ['blue', 'red', 'green', 'orange', 'purple']  # Choose colors for each class\n",
    "    for i in range(n_classes):\n",
    "        plt.plot(fpr[i], tpr[i], color=colors[i], lw=2, label='Class {0} (AUC = {1:.2f})'.format(i, roc_auc[i]))\n",
    "\n",
    "    plt.plot([0, 1], [0, 1], color='black', lw=1, linestyle='--')\n",
    "    plt.xlim([0.0, 1.0])\n",
    "    plt.ylim([0.0, 1.05])\n",
    "    plt.xlabel('False Positive Rate')\n",
    "    plt.ylabel('True Positive Rate')\n",
    "    plt.title('Receiver Operating Characteristic (ROC) Curves')\n",
    "    plt.legend(loc='lower right')\n",
    "    plt.show()\n",
    "\n"
   ]
  },
  {
   "cell_type": "code",
   "execution_count": 164,
   "metadata": {},
   "outputs": [
    {
     "name": "stdout",
     "output_type": "stream",
     "text": [
      "53 53\n"
     ]
    }
   ],
   "source": [
    "y_pred = final_model.predict(X_test)\n",
    "y_scores = final_model.decision_function(X_test)\n",
    "\n",
    "y_true = np.array(y_test)\n",
    "y_scores = np.array(y_scores)\n",
    "\n",
    "print(len(y_true), len(y_scores))\n"
   ]
  },
  {
   "cell_type": "code",
   "execution_count": 165,
   "metadata": {},
   "outputs": [
    {
     "name": "stdout",
     "output_type": "stream",
     "text": [
      "53 53\n"
     ]
    }
   ],
   "source": [
    "y_pred = final_model.predict(X_test)\n",
    "y_scores = final_model.decision_function(X_test)\n",
    "\n",
    "y_true = np.array(y_test)\n",
    "y_scores = np.array(y_scores)\n",
    "\n",
    "print(len(y_true), len(y_scores))\n"
   ]
  },
  {
   "cell_type": "code",
   "execution_count": 166,
   "metadata": {},
   "outputs": [],
   "source": [
    "from sklearn.preprocessing import LabelEncoder\n",
    "\n",
    "label_encoder = LabelEncoder()\n",
    "y_true_binary = label_encoder.fit_transform(y_true)\n",
    "# print((y_true_binary), (y_true))"
   ]
  },
  {
   "cell_type": "code",
   "execution_count": 167,
   "metadata": {},
   "outputs": [
    {
     "data": {
      "image/png": "[encoded data removed]",
      "text/plain": [
       "<Figure size 432x288 with 1 Axes>"
      ]
     },
     "metadata": {
      "needs_background": "light"
     },
     "output_type": "display_data"
    }
   ],
   "source": [
    "draw_roc_multi_curves(y_true_binary, y_scores, n_classes=5)"
   ]
  },
  {
   "cell_type": "code",
   "execution_count": 168,
   "metadata": {},
   "outputs": [],
   "source": [
    "from sklearn.metrics import classification_report"
   ]
  },
  {
   "cell_type": "code",
   "execution_count": 169,
   "metadata": {},
   "outputs": [
    {
     "name": "stdout",
     "output_type": "stream",
     "text": [
      "              precision    recall  f1-score   support\n",
      "\n",
      "        alaa       0.89      1.00      0.94         8\n",
      "     aya amr       0.83      0.91      0.87        11\n",
      "   aya sameh       1.00      1.00      1.00        11\n",
      "        ehab       0.92      0.92      0.92        12\n",
      "      salman       1.00      0.82      0.90        11\n",
      "\n",
      "    accuracy                           0.92        53\n",
      "   macro avg       0.93      0.93      0.93        53\n",
      "weighted avg       0.93      0.92      0.92        53\n",
      "\n"
     ]
    }
   ],
   "source": [
    "cr = classification_report(y_test, final_model.predict(X_test))\n",
    "print(cr)"
   ]
  },
  {
   "cell_type": "code",
   "execution_count": 170,
   "metadata": {},
   "outputs": [],
   "source": [
    "def predictor(image_path, mean_face, eigvecs):\n",
    "    gray_img = cv2.imread(image_path,0)\n",
    "    face = face_detection(gray_img)\n",
    "    pixel_values = []\n",
    "    \n",
    "    for (x, y, w, h) in face:\n",
    "        face_img = gray_img[y:y+h, x:x+w]\n",
    "        face_img = cv2.resize(face_img, (100,100))\n",
    "        gray_pixels = face_img.flatten().tolist()\n",
    "        \n",
    "    pixel_values.append(gray_pixels)\n",
    "    \n",
    "    pixel_values = pd.DataFrame(pixel_values)\n",
    "    \n",
    "    X = np.array(pixel_values).reshape(len((pixel_values)), -1).astype(np.float64)\n",
    "    \n",
    "    X = X-mean_face\n",
    "    X_pca = np.dot(X,eigvecs.T)\n",
    "    \n",
    "    pred = final_model.predict(X_pca)\n",
    "    \n",
    "    print(pred)\n"
   ]
  },
  {
   "cell_type": "code",
   "execution_count": 171,
   "metadata": {},
   "outputs": [
    {
     "name": "stdout",
     "output_type": "stream",
     "text": [
      "['aya amr']\n"
     ]
    }
   ],
   "source": [
    "predictor(\"test/IMG-20230518-WA0023.jpg\", mean_face, eigvecs)"
   ]
  },
  {
   "cell_type": "code",
   "execution_count": 172,
   "metadata": {},
   "outputs": [
    {
     "name": "stdout",
     "output_type": "stream",
     "text": [
      "[[243 362 276 276]\n",
      " [142 164 513 513]]\n"
     ]
    },
    {
     "data": {
      "image/png": "[encoded data removed]",
      "text/plain": [
       "<Figure size 432x288 with 1 Axes>"
      ]
     },
     "metadata": {
      "needs_background": "light"
     },
     "output_type": "display_data"
    }
   ],
   "source": [
    "gray_img = cv2.imread(\"test/IMG-20230518-WA0023.jpg\",0)\n",
    "face = face_detection(gray_img)\n",
    "print(face)\n",
    "counter = 0\n",
    "for (x, y, w, h) in face:\n",
    "    face_img = gray_img[y:y+h, x:x+w]\n",
    "    face_img = cv2.resize(face_img, (100,100))\n",
    "    plt.imshow(face_img, cmap=\"gray\")"
   ]
  },
  {
   "cell_type": "code",
   "execution_count": 173,
   "metadata": {},
   "outputs": [],
   "source": [
    "import pickle\n",
    "with open('model.pkl', 'wb') as f:\n",
    "    pickle.dump(final_model, f)"
   ]
  },
  {
   "cell_type": "code",
   "execution_count": null,
   "metadata": {},
   "outputs": [],
   "source": []
  }
 ],
 "metadata": {
  "kernelspec": {
   "display_name": "base",
   "language": "python",
   "name": "python3"
  },
  "language_info": {
   "codemirror_mode": {
    "name": "ipython",
    "version": 3
   },
   "file_extension": ".py",
   "mimetype": "text/x-python",
   "name": "python",
   "nbconvert_exporter": "python",
   "pygments_lexer": "ipython3",
   "version": "3.11.5"
  },
  "orig_nbformat": 4
 },
 "nbformat": 4,
 "nbformat_minor": 2
}
